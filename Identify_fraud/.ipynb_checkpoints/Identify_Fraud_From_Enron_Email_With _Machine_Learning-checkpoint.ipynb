{
 "cells": [
  {
   "cell_type": "markdown",
   "metadata": {},
   "source": [
    "Project Overview\n",
    "\n",
    "In 2000, Enron was one of the largest companies in the United States. By 2002, it had collapsed into bankruptcy due to widespread corporate fraud. In the resulting Federal investigation, a significant amount of typically confidential information entered into the public record, including tens of thousands of emails and detailed financial data for top executives.\n",
    "\n",
    "The goal of this project is to identify Enron employees who may have committed fraud based on the public Enron financial and email dataset. \n",
    "In this project I will build a person of interest identifier based on financial and email data made public as a result of the Enron scandal. I use email and financial data for 146 executives at Enron to identify persons of interest in the fraud case. A person of interest (POI) is someone who was indicted for fraud, settled with the government, or testified in exchange for immunity. This report documents the machine learning techniques used in building a POI identifier.\n",
    "\n",
    "There are four major steps in my project:\n",
    "1.Data Exploration\n",
    "2.Enron dataset\n",
    "3.Feature processing\n",
    "4.Algorithm\n",
    "5.Validation"
   ]
  },
  {
   "cell_type": "code",
   "execution_count": 20,
   "metadata": {
    "collapsed": true
   },
   "outputs": [],
   "source": [
    "import os\n",
    "os.chdir('/home/aunja/ANUJA/data_analyst_nano/ud120-projects/final_project/')\n",
    "\n",
    "## The method chdir() changes the current working directory to the given path.It returns None in all the cases."
   ]
  },
  {
   "cell_type": "code",
   "execution_count": 68,
   "metadata": {
    "collapsed": false
   },
   "outputs": [],
   "source": [
    "from IPython.display import Image\n",
    "import matplotlib.pyplot as plt\n",
    "import sys\n",
    "import pickle\n",
    "from sklearn import preprocessing\n",
    "from time import time\n",
    "\n",
    "from sklearn.metrics import accuracy_score\n",
    "from sklearn.grid_search import GridSearchCV\n",
    "from sklearn.metrics import precision_score\n",
    "from sklearn.metrics import recall_score\n",
    "from sklearn.pipeline import Pipeline, FeatureUnion\n",
    "from sklearn.grid_search import GridSearchCV\n",
    "from tester import dump_classifier_and_data\n",
    "\n",
    "from feature_format import featureFormat, targetFeatureSplit\n",
    "from sklearn.preprocessing import MinMaxScaler\n",
    "from sklearn.feature_selection import SelectKBest, chi2, f_classif, f_regression\n",
    "from sklearn import cross_validation\n",
    "#from sklearn.cross_validation import StratifiedShuffleSplit\n",
    "from sklearn.metrics import f1_score\n",
    "from sklearn.svm import SVC\n",
    "from sklearn.tree import DecisionTreeClassifier\n",
    "from sklearn.naive_bayes import GaussianNB\n",
    "import pprint\n",
    "sys.path.append(\"/home/aunja/ANUJA/data_analyst_nano/ud120-projects/tools/\")\n",
    "\n",
    "\n",
    "from feature_format import featureFormat\n",
    "from feature_format import targetFeatureSplit\n",
    "\n",
    "### features_list is a list of strings, each of which is a feature name\n",
    "### first feature must be \"poi\", as this will be singled out as the label\n",
    "features_list = [\"poi\"]\n",
    "\n",
    "### load the dictionary containing the dataset\n",
    "data_dict = pickle.load(open(\"/home/aunja/ANUJA/data_analyst_nano/ud120-projects/final_project/final_project_dataset.pkl\", \"r\") )"
   ]
  },
  {
   "cell_type": "markdown",
   "metadata": {},
   "source": [
    "Data Exploration\n",
    "\n",
    "I looked through dataset to describe overall statistics and find out what features can help identifying fraud from Enron email.The features in the data fall into three major types, namely financial features, email features and POI labels.\n",
    "\n",
    "financial features: ['salary', 'deferral_payments', 'total_payments', 'loan_advances', 'bonus', 'restricted_stock_deferred', 'deferred_income', 'total_stock_value', 'expenses', 'exercised_stock_options', 'other', 'long_term_incentive', 'restricted_stock', 'director_fees'] (all units are in US dollars)\n",
    "\n",
    "email features: ['to_messages', 'email_address', 'from_poi_to_this_person', 'from_messages', 'from_this_person_to_poi', 'shared_receipt_with_poi'] (units are generally number of emails messages; notable exception is ‘email_address’, which is a text string)\n",
    "\n",
    "POI label: [‘poi’] (boolean, represented as integer)"
   ]
  },
  {
   "cell_type": "code",
   "execution_count": 69,
   "metadata": {
    "collapsed": false
   },
   "outputs": [
    {
     "data": {
      "text/html": [
       "<div>\n",
       "<table border=\"1\" class=\"dataframe\">\n",
       "  <thead>\n",
       "    <tr style=\"text-align: right;\">\n",
       "      <th></th>\n",
       "      <th>name</th>\n",
       "      <th>salary</th>\n",
       "      <th>to_messages</th>\n",
       "      <th>deferral_payments</th>\n",
       "      <th>total_payments</th>\n",
       "      <th>exercised_stock_options</th>\n",
       "      <th>bonus</th>\n",
       "      <th>restricted_stock</th>\n",
       "      <th>shared_receipt_with_poi</th>\n",
       "      <th>restricted_stock_deferred</th>\n",
       "      <th>...</th>\n",
       "      <th>loan_advances</th>\n",
       "      <th>from_messages</th>\n",
       "      <th>other</th>\n",
       "      <th>from_this_person_to_poi</th>\n",
       "      <th>poi</th>\n",
       "      <th>director_fees</th>\n",
       "      <th>deferred_income</th>\n",
       "      <th>long_term_incentive</th>\n",
       "      <th>email_address</th>\n",
       "      <th>from_poi_to_this_person</th>\n",
       "    </tr>\n",
       "  </thead>\n",
       "  <tbody>\n",
       "    <tr>\n",
       "      <th>0</th>\n",
       "      <td>ALLEN PHILLIP K</td>\n",
       "      <td>201955.0</td>\n",
       "      <td>2902.0</td>\n",
       "      <td>2869717.0</td>\n",
       "      <td>4484442.0</td>\n",
       "      <td>1729541.0</td>\n",
       "      <td>4175000.0</td>\n",
       "      <td>126027.0</td>\n",
       "      <td>1407.0</td>\n",
       "      <td>-126027.0</td>\n",
       "      <td>...</td>\n",
       "      <td>0.0</td>\n",
       "      <td>2195.0</td>\n",
       "      <td>152.0</td>\n",
       "      <td>65.0</td>\n",
       "      <td>0.0</td>\n",
       "      <td>0.0</td>\n",
       "      <td>-3081055.0</td>\n",
       "      <td>304805.0</td>\n",
       "      <td>phillip.allen@enron.com</td>\n",
       "      <td>47.0</td>\n",
       "    </tr>\n",
       "    <tr>\n",
       "      <th>1</th>\n",
       "      <td>BADUM JAMES P</td>\n",
       "      <td>0.0</td>\n",
       "      <td>0.0</td>\n",
       "      <td>178980.0</td>\n",
       "      <td>182466.0</td>\n",
       "      <td>257817.0</td>\n",
       "      <td>0.0</td>\n",
       "      <td>0.0</td>\n",
       "      <td>0.0</td>\n",
       "      <td>0.0</td>\n",
       "      <td>...</td>\n",
       "      <td>0.0</td>\n",
       "      <td>0.0</td>\n",
       "      <td>0.0</td>\n",
       "      <td>0.0</td>\n",
       "      <td>0.0</td>\n",
       "      <td>0.0</td>\n",
       "      <td>0.0</td>\n",
       "      <td>0.0</td>\n",
       "      <td>NaN</td>\n",
       "      <td>0.0</td>\n",
       "    </tr>\n",
       "    <tr>\n",
       "      <th>2</th>\n",
       "      <td>BANNANTINE JAMES M</td>\n",
       "      <td>477.0</td>\n",
       "      <td>566.0</td>\n",
       "      <td>0.0</td>\n",
       "      <td>916197.0</td>\n",
       "      <td>4046157.0</td>\n",
       "      <td>0.0</td>\n",
       "      <td>1757552.0</td>\n",
       "      <td>465.0</td>\n",
       "      <td>-560222.0</td>\n",
       "      <td>...</td>\n",
       "      <td>0.0</td>\n",
       "      <td>29.0</td>\n",
       "      <td>864523.0</td>\n",
       "      <td>0.0</td>\n",
       "      <td>0.0</td>\n",
       "      <td>0.0</td>\n",
       "      <td>-5104.0</td>\n",
       "      <td>0.0</td>\n",
       "      <td>james.bannantine@enron.com</td>\n",
       "      <td>39.0</td>\n",
       "    </tr>\n",
       "    <tr>\n",
       "      <th>3</th>\n",
       "      <td>BAXTER JOHN C</td>\n",
       "      <td>267102.0</td>\n",
       "      <td>0.0</td>\n",
       "      <td>1295738.0</td>\n",
       "      <td>5634343.0</td>\n",
       "      <td>6680544.0</td>\n",
       "      <td>1200000.0</td>\n",
       "      <td>3942714.0</td>\n",
       "      <td>0.0</td>\n",
       "      <td>0.0</td>\n",
       "      <td>...</td>\n",
       "      <td>0.0</td>\n",
       "      <td>0.0</td>\n",
       "      <td>2660303.0</td>\n",
       "      <td>0.0</td>\n",
       "      <td>0.0</td>\n",
       "      <td>0.0</td>\n",
       "      <td>-1386055.0</td>\n",
       "      <td>1586055.0</td>\n",
       "      <td>NaN</td>\n",
       "      <td>0.0</td>\n",
       "    </tr>\n",
       "    <tr>\n",
       "      <th>4</th>\n",
       "      <td>BAY FRANKLIN R</td>\n",
       "      <td>239671.0</td>\n",
       "      <td>0.0</td>\n",
       "      <td>260455.0</td>\n",
       "      <td>827696.0</td>\n",
       "      <td>0.0</td>\n",
       "      <td>400000.0</td>\n",
       "      <td>145796.0</td>\n",
       "      <td>0.0</td>\n",
       "      <td>-82782.0</td>\n",
       "      <td>...</td>\n",
       "      <td>0.0</td>\n",
       "      <td>0.0</td>\n",
       "      <td>69.0</td>\n",
       "      <td>0.0</td>\n",
       "      <td>0.0</td>\n",
       "      <td>0.0</td>\n",
       "      <td>-201641.0</td>\n",
       "      <td>0.0</td>\n",
       "      <td>frank.bay@enron.com</td>\n",
       "      <td>0.0</td>\n",
       "    </tr>\n",
       "  </tbody>\n",
       "</table>\n",
       "<p>5 rows × 22 columns</p>\n",
       "</div>"
      ],
      "text/plain": [
       "                 name    salary  to_messages  deferral_payments  \\\n",
       "0     ALLEN PHILLIP K  201955.0       2902.0          2869717.0   \n",
       "1       BADUM JAMES P       0.0          0.0           178980.0   \n",
       "2  BANNANTINE JAMES M     477.0        566.0                0.0   \n",
       "3       BAXTER JOHN C  267102.0          0.0          1295738.0   \n",
       "4      BAY FRANKLIN R  239671.0          0.0           260455.0   \n",
       "\n",
       "   total_payments  exercised_stock_options      bonus  restricted_stock  \\\n",
       "0       4484442.0                1729541.0  4175000.0          126027.0   \n",
       "1        182466.0                 257817.0        0.0               0.0   \n",
       "2        916197.0                4046157.0        0.0         1757552.0   \n",
       "3       5634343.0                6680544.0  1200000.0         3942714.0   \n",
       "4        827696.0                      0.0   400000.0          145796.0   \n",
       "\n",
       "   shared_receipt_with_poi  restricted_stock_deferred  \\\n",
       "0                   1407.0                  -126027.0   \n",
       "1                      0.0                        0.0   \n",
       "2                    465.0                  -560222.0   \n",
       "3                      0.0                        0.0   \n",
       "4                      0.0                   -82782.0   \n",
       "\n",
       "            ...             loan_advances  from_messages      other  \\\n",
       "0           ...                       0.0         2195.0      152.0   \n",
       "1           ...                       0.0            0.0        0.0   \n",
       "2           ...                       0.0           29.0   864523.0   \n",
       "3           ...                       0.0            0.0  2660303.0   \n",
       "4           ...                       0.0            0.0       69.0   \n",
       "\n",
       "   from_this_person_to_poi  poi  director_fees  deferred_income  \\\n",
       "0                     65.0  0.0            0.0       -3081055.0   \n",
       "1                      0.0  0.0            0.0              0.0   \n",
       "2                      0.0  0.0            0.0          -5104.0   \n",
       "3                      0.0  0.0            0.0       -1386055.0   \n",
       "4                      0.0  0.0            0.0        -201641.0   \n",
       "\n",
       "   long_term_incentive               email_address  from_poi_to_this_person  \n",
       "0             304805.0     phillip.allen@enron.com                     47.0  \n",
       "1                  0.0                         NaN                      0.0  \n",
       "2                  0.0  james.bannantine@enron.com                     39.0  \n",
       "3            1586055.0                         NaN                      0.0  \n",
       "4                  0.0         frank.bay@enron.com                      0.0  \n",
       "\n",
       "[5 rows x 22 columns]"
      ]
     },
     "execution_count": 69,
     "metadata": {},
     "output_type": "execute_result"
    }
   ],
   "source": [
    "from tester import test_classifier, dump_classifier_and_data\n",
    "\n",
    "features_list = ['poi', 'salary','deferral_payments', 'total_payments', 'loan_advances', 'bonus', \n",
    "                 'restricted_stock_deferred', 'deferred_income', 'total_stock_value', 'expenses', \n",
    "                 'exercised_stock_options', 'other', 'long_term_incentive', 'restricted_stock', \n",
    "                 'director_fees','shared_receipt_with_poi' ,'percentage_to_poi','percentage_from_poi']\n",
    "\n",
    "initial_features_list = ['poi','salary','deferral_payments', 'total_payments', 'loan_advances', \n",
    "                         'bonus', 'restricted_stock_deferred', 'deferred_income', 'total_stock_value', \n",
    "                         'expenses', 'exercised_stock_options', 'other', 'long_term_incentive', 'restricted_stock',\n",
    "                         'director_fees', 'shared_receipt_with_poi','to_messages','from_messages',\n",
    "                         'from_poi_to_this_person','from_this_person_to_poi']\n",
    "\n",
    "### Load the dictionary containing the dataset\n",
    "with open(\"/home/aunja/ANUJA/data_analyst_nano/ud120-projects/final_project/final_project_dataset.pkl\", \"r\") as data_file:\n",
    "    data_dict = pickle.load(data_file)\n",
    "    \n",
    "import pandas as pd\n",
    "import numpy as np\n",
    "\n",
    "df = pd.DataFrame.from_dict(data_dict, orient='index', dtype=np.float)\n",
    "df.reset_index(level=0, inplace=True)\n",
    "columns = list(df.columns)\n",
    "columns[0] = 'name'\n",
    "df.columns = columns\n",
    "df.fillna(0, inplace=True)\n",
    "df.head()\n",
    "    "
   ]
  },
  {
   "cell_type": "markdown",
   "metadata": {},
   "source": [
    "There are total 5 rows and 22 columns"
   ]
  },
  {
   "cell_type": "code",
   "execution_count": 70,
   "metadata": {
    "collapsed": false
   },
   "outputs": [
    {
     "data": {
      "text/html": [
       "<div>\n",
       "<table border=\"1\" class=\"dataframe\">\n",
       "  <thead>\n",
       "    <tr style=\"text-align: right;\">\n",
       "      <th></th>\n",
       "      <th>count</th>\n",
       "      <th>mean</th>\n",
       "      <th>std</th>\n",
       "      <th>min</th>\n",
       "      <th>25%</th>\n",
       "      <th>50%</th>\n",
       "      <th>75%</th>\n",
       "      <th>max</th>\n",
       "    </tr>\n",
       "  </thead>\n",
       "  <tbody>\n",
       "    <tr>\n",
       "      <th>salary</th>\n",
       "      <td>146.0</td>\n",
       "      <td>3.658114e+05</td>\n",
       "      <td>2.203575e+06</td>\n",
       "      <td>0.0</td>\n",
       "      <td>0.00</td>\n",
       "      <td>210596.0</td>\n",
       "      <td>270850.50</td>\n",
       "      <td>26704229.0</td>\n",
       "    </tr>\n",
       "    <tr>\n",
       "      <th>to_messages</th>\n",
       "      <td>146.0</td>\n",
       "      <td>1.221589e+03</td>\n",
       "      <td>2.226771e+03</td>\n",
       "      <td>0.0</td>\n",
       "      <td>0.00</td>\n",
       "      <td>289.0</td>\n",
       "      <td>1585.75</td>\n",
       "      <td>15149.0</td>\n",
       "    </tr>\n",
       "    <tr>\n",
       "      <th>deferral_payments</th>\n",
       "      <td>146.0</td>\n",
       "      <td>4.387965e+05</td>\n",
       "      <td>2.741325e+06</td>\n",
       "      <td>-102500.0</td>\n",
       "      <td>0.00</td>\n",
       "      <td>0.0</td>\n",
       "      <td>9684.50</td>\n",
       "      <td>32083396.0</td>\n",
       "    </tr>\n",
       "    <tr>\n",
       "      <th>total_payments</th>\n",
       "      <td>146.0</td>\n",
       "      <td>4.350622e+06</td>\n",
       "      <td>2.693448e+07</td>\n",
       "      <td>0.0</td>\n",
       "      <td>93944.75</td>\n",
       "      <td>941359.5</td>\n",
       "      <td>1968286.75</td>\n",
       "      <td>309886585.0</td>\n",
       "    </tr>\n",
       "    <tr>\n",
       "      <th>exercised_stock_options</th>\n",
       "      <td>146.0</td>\n",
       "      <td>4.182736e+06</td>\n",
       "      <td>2.607040e+07</td>\n",
       "      <td>0.0</td>\n",
       "      <td>0.00</td>\n",
       "      <td>608293.5</td>\n",
       "      <td>1714220.75</td>\n",
       "      <td>311764000.0</td>\n",
       "    </tr>\n",
       "    <tr>\n",
       "      <th>bonus</th>\n",
       "      <td>146.0</td>\n",
       "      <td>1.333474e+06</td>\n",
       "      <td>8.094029e+06</td>\n",
       "      <td>0.0</td>\n",
       "      <td>0.00</td>\n",
       "      <td>300000.0</td>\n",
       "      <td>800000.00</td>\n",
       "      <td>97343619.0</td>\n",
       "    </tr>\n",
       "    <tr>\n",
       "      <th>restricted_stock</th>\n",
       "      <td>146.0</td>\n",
       "      <td>1.749257e+06</td>\n",
       "      <td>1.089995e+07</td>\n",
       "      <td>-2604490.0</td>\n",
       "      <td>8115.00</td>\n",
       "      <td>360528.0</td>\n",
       "      <td>814528.00</td>\n",
       "      <td>130322299.0</td>\n",
       "    </tr>\n",
       "    <tr>\n",
       "      <th>shared_receipt_with_poi</th>\n",
       "      <td>146.0</td>\n",
       "      <td>6.929863e+02</td>\n",
       "      <td>1.072969e+03</td>\n",
       "      <td>0.0</td>\n",
       "      <td>0.00</td>\n",
       "      <td>102.5</td>\n",
       "      <td>893.50</td>\n",
       "      <td>5521.0</td>\n",
       "    </tr>\n",
       "    <tr>\n",
       "      <th>restricted_stock_deferred</th>\n",
       "      <td>146.0</td>\n",
       "      <td>2.051637e+04</td>\n",
       "      <td>1.439661e+06</td>\n",
       "      <td>-7576788.0</td>\n",
       "      <td>0.00</td>\n",
       "      <td>0.0</td>\n",
       "      <td>0.00</td>\n",
       "      <td>15456290.0</td>\n",
       "    </tr>\n",
       "    <tr>\n",
       "      <th>total_stock_value</th>\n",
       "      <td>146.0</td>\n",
       "      <td>5.846018e+06</td>\n",
       "      <td>3.624681e+07</td>\n",
       "      <td>-44093.0</td>\n",
       "      <td>228869.50</td>\n",
       "      <td>965955.0</td>\n",
       "      <td>2319991.25</td>\n",
       "      <td>434509511.0</td>\n",
       "    </tr>\n",
       "    <tr>\n",
       "      <th>expenses</th>\n",
       "      <td>146.0</td>\n",
       "      <td>7.074827e+04</td>\n",
       "      <td>4.327163e+05</td>\n",
       "      <td>0.0</td>\n",
       "      <td>0.00</td>\n",
       "      <td>20182.0</td>\n",
       "      <td>53740.75</td>\n",
       "      <td>5235198.0</td>\n",
       "    </tr>\n",
       "    <tr>\n",
       "      <th>loan_advances</th>\n",
       "      <td>146.0</td>\n",
       "      <td>1.149658e+06</td>\n",
       "      <td>9.649342e+06</td>\n",
       "      <td>0.0</td>\n",
       "      <td>0.00</td>\n",
       "      <td>0.0</td>\n",
       "      <td>0.00</td>\n",
       "      <td>83925000.0</td>\n",
       "    </tr>\n",
       "    <tr>\n",
       "      <th>from_messages</th>\n",
       "      <td>146.0</td>\n",
       "      <td>3.586027e+02</td>\n",
       "      <td>1.441260e+03</td>\n",
       "      <td>0.0</td>\n",
       "      <td>0.00</td>\n",
       "      <td>16.5</td>\n",
       "      <td>51.25</td>\n",
       "      <td>14368.0</td>\n",
       "    </tr>\n",
       "    <tr>\n",
       "      <th>other</th>\n",
       "      <td>146.0</td>\n",
       "      <td>5.854318e+05</td>\n",
       "      <td>3.682345e+06</td>\n",
       "      <td>0.0</td>\n",
       "      <td>0.00</td>\n",
       "      <td>959.5</td>\n",
       "      <td>150606.50</td>\n",
       "      <td>42667589.0</td>\n",
       "    </tr>\n",
       "    <tr>\n",
       "      <th>from_this_person_to_poi</th>\n",
       "      <td>146.0</td>\n",
       "      <td>2.428767e+01</td>\n",
       "      <td>7.927821e+01</td>\n",
       "      <td>0.0</td>\n",
       "      <td>0.00</td>\n",
       "      <td>0.0</td>\n",
       "      <td>13.75</td>\n",
       "      <td>609.0</td>\n",
       "    </tr>\n",
       "    <tr>\n",
       "      <th>poi</th>\n",
       "      <td>146.0</td>\n",
       "      <td>1.232877e-01</td>\n",
       "      <td>3.298989e-01</td>\n",
       "      <td>0.0</td>\n",
       "      <td>0.00</td>\n",
       "      <td>0.0</td>\n",
       "      <td>0.00</td>\n",
       "      <td>1.0</td>\n",
       "    </tr>\n",
       "    <tr>\n",
       "      <th>director_fees</th>\n",
       "      <td>146.0</td>\n",
       "      <td>1.942249e+04</td>\n",
       "      <td>1.190543e+05</td>\n",
       "      <td>0.0</td>\n",
       "      <td>0.00</td>\n",
       "      <td>0.0</td>\n",
       "      <td>0.00</td>\n",
       "      <td>1398517.0</td>\n",
       "    </tr>\n",
       "    <tr>\n",
       "      <th>deferred_income</th>\n",
       "      <td>146.0</td>\n",
       "      <td>-3.827622e+05</td>\n",
       "      <td>2.378250e+06</td>\n",
       "      <td>-27992891.0</td>\n",
       "      <td>-37926.00</td>\n",
       "      <td>0.0</td>\n",
       "      <td>0.00</td>\n",
       "      <td>0.0</td>\n",
       "    </tr>\n",
       "    <tr>\n",
       "      <th>long_term_incentive</th>\n",
       "      <td>146.0</td>\n",
       "      <td>6.646839e+05</td>\n",
       "      <td>4.046072e+06</td>\n",
       "      <td>0.0</td>\n",
       "      <td>0.00</td>\n",
       "      <td>0.0</td>\n",
       "      <td>375064.75</td>\n",
       "      <td>48521928.0</td>\n",
       "    </tr>\n",
       "    <tr>\n",
       "      <th>from_poi_to_this_person</th>\n",
       "      <td>146.0</td>\n",
       "      <td>3.822603e+01</td>\n",
       "      <td>7.390112e+01</td>\n",
       "      <td>0.0</td>\n",
       "      <td>0.00</td>\n",
       "      <td>2.5</td>\n",
       "      <td>40.75</td>\n",
       "      <td>528.0</td>\n",
       "    </tr>\n",
       "  </tbody>\n",
       "</table>\n",
       "</div>"
      ],
      "text/plain": [
       "                           count          mean           std         min  \\\n",
       "salary                     146.0  3.658114e+05  2.203575e+06         0.0   \n",
       "to_messages                146.0  1.221589e+03  2.226771e+03         0.0   \n",
       "deferral_payments          146.0  4.387965e+05  2.741325e+06   -102500.0   \n",
       "total_payments             146.0  4.350622e+06  2.693448e+07         0.0   \n",
       "exercised_stock_options    146.0  4.182736e+06  2.607040e+07         0.0   \n",
       "bonus                      146.0  1.333474e+06  8.094029e+06         0.0   \n",
       "restricted_stock           146.0  1.749257e+06  1.089995e+07  -2604490.0   \n",
       "shared_receipt_with_poi    146.0  6.929863e+02  1.072969e+03         0.0   \n",
       "restricted_stock_deferred  146.0  2.051637e+04  1.439661e+06  -7576788.0   \n",
       "total_stock_value          146.0  5.846018e+06  3.624681e+07    -44093.0   \n",
       "expenses                   146.0  7.074827e+04  4.327163e+05         0.0   \n",
       "loan_advances              146.0  1.149658e+06  9.649342e+06         0.0   \n",
       "from_messages              146.0  3.586027e+02  1.441260e+03         0.0   \n",
       "other                      146.0  5.854318e+05  3.682345e+06         0.0   \n",
       "from_this_person_to_poi    146.0  2.428767e+01  7.927821e+01         0.0   \n",
       "poi                        146.0  1.232877e-01  3.298989e-01         0.0   \n",
       "director_fees              146.0  1.942249e+04  1.190543e+05         0.0   \n",
       "deferred_income            146.0 -3.827622e+05  2.378250e+06 -27992891.0   \n",
       "long_term_incentive        146.0  6.646839e+05  4.046072e+06         0.0   \n",
       "from_poi_to_this_person    146.0  3.822603e+01  7.390112e+01         0.0   \n",
       "\n",
       "                                 25%       50%         75%          max  \n",
       "salary                          0.00  210596.0   270850.50   26704229.0  \n",
       "to_messages                     0.00     289.0     1585.75      15149.0  \n",
       "deferral_payments               0.00       0.0     9684.50   32083396.0  \n",
       "total_payments              93944.75  941359.5  1968286.75  309886585.0  \n",
       "exercised_stock_options         0.00  608293.5  1714220.75  311764000.0  \n",
       "bonus                           0.00  300000.0   800000.00   97343619.0  \n",
       "restricted_stock             8115.00  360528.0   814528.00  130322299.0  \n",
       "shared_receipt_with_poi         0.00     102.5      893.50       5521.0  \n",
       "restricted_stock_deferred       0.00       0.0        0.00   15456290.0  \n",
       "total_stock_value          228869.50  965955.0  2319991.25  434509511.0  \n",
       "expenses                        0.00   20182.0    53740.75    5235198.0  \n",
       "loan_advances                   0.00       0.0        0.00   83925000.0  \n",
       "from_messages                   0.00      16.5       51.25      14368.0  \n",
       "other                           0.00     959.5   150606.50   42667589.0  \n",
       "from_this_person_to_poi         0.00       0.0       13.75        609.0  \n",
       "poi                             0.00       0.0        0.00          1.0  \n",
       "director_fees                   0.00       0.0        0.00    1398517.0  \n",
       "deferred_income            -37926.00       0.0        0.00          0.0  \n",
       "long_term_incentive             0.00       0.0   375064.75   48521928.0  \n",
       "from_poi_to_this_person         0.00       2.5       40.75        528.0  "
      ]
     },
     "execution_count": 70,
     "metadata": {},
     "output_type": "execute_result"
    }
   ],
   "source": [
    "df.describe().transpose()"
   ]
  },
  {
   "cell_type": "markdown",
   "metadata": {},
   "source": [
    "Number of person-of-interest and non person-of-interest:"
   ]
  },
  {
   "cell_type": "code",
   "execution_count": 71,
   "metadata": {
    "collapsed": false
   },
   "outputs": [
    {
     "name": "stdout",
     "output_type": "stream",
     "text": [
      "       len\n",
      "poi       \n",
      "0.0  128.0\n",
      "1.0   18.0\n"
     ]
    }
   ],
   "source": [
    "bypoi = df.groupby(['poi'])\n",
    "print bypoi['poi'].aggregate([len])"
   ]
  },
  {
   "cell_type": "markdown",
   "metadata": {},
   "source": [
    "18 records are labeled as persons of interest.\n"
   ]
  },
  {
   "cell_type": "markdown",
   "metadata": {},
   "source": [
    "Now let's look how data is structured."
   ]
  },
  {
   "cell_type": "code",
   "execution_count": 72,
   "metadata": {
    "collapsed": false,
    "scrolled": true
   },
   "outputs": [
    {
     "name": "stdout",
     "output_type": "stream",
     "text": [
      "There are  146  executives in Enron Dataset.\n"
     ]
    }
   ],
   "source": [
    "print \"There are \", len(data_dict.keys()), \" executives in Enron Dataset.\""
   ]
  },
  {
   "cell_type": "code",
   "execution_count": 73,
   "metadata": {
    "collapsed": false
   },
   "outputs": [
    {
     "name": "stdout",
     "output_type": "stream",
     "text": [
      "['METTS MARK', 'BAXTER JOHN C', 'ELLIOTT STEVEN', 'CORDES WILLIAM R', 'HANNON KEVIN P', 'MORDAUNT KRISTINA M', 'MEYER ROCKFORD G', 'MCMAHON JEFFREY', 'HORTON STANLEY C', 'PIPER GREGORY F', 'HUMPHREY GENE E', 'UMANOFF ADAM S', 'BLACHMAN JEREMY M', 'SUNDE MARTIN', 'GIBBS DANA R', 'LOWRY CHARLES P', 'COLWELL WESLEY', 'MULLER MARK S', 'JACKSON CHARLENE R', 'WESTFAHL RICHARD K', 'WALTERS GARETH W', 'WALLS JR ROBERT H', 'KITCHEN LOUISE', 'CHAN RONNIE', 'BELFER ROBERT', 'SHANKMAN JEFFREY A', 'WODRASKA JOHN', 'BERGSIEKER RICHARD P', 'URQUHART JOHN A', 'BIBI PHILIPPE A', 'RIEKER PAULA H', 'WHALEY DAVID A', 'BECK SALLY W', 'HAUG DAVID L', 'ECHOLS JOHN B', 'MENDELSOHN JOHN', 'HICKERSON GARY J', 'CLINE KENNETH W', 'LEWIS RICHARD', 'HAYES ROBERT E', 'MCCARTY DANNY J', 'KOPPER MICHAEL J', 'LEFF DANIEL P', 'LAVORATO JOHN J', 'BERBERIAN DAVID', 'DETMERING TIMOTHY J', 'WAKEHAM JOHN', 'POWERS WILLIAM', 'GOLD JOSEPH', 'BANNANTINE JAMES M', 'DUNCAN JOHN H', 'SHAPIRO RICHARD S', 'SHERRIFF JOHN R', 'SHELBY REX', 'LEMAISTRE CHARLES', 'DEFFNER JOSEPH M', 'KISHKILL JOSEPH G', 'WHALLEY LAWRENCE G', 'MCCONNELL MICHAEL S', 'PIRO JIM', 'DELAINEY DAVID W', 'SULLIVAN-SHAKLOVITZ COLLEEN', 'WROBEL BRUCE', 'LINDHOLM TOD A', 'MEYER JEROME J', 'LAY KENNETH L', 'BUTTS ROBERT H', 'OLSON CINDY K', 'MCDONALD REBECCA', 'CUMBERLAND MICHAEL S', 'GAHN ROBERT S', 'MCCLELLAN GEORGE', 'HERMANN ROBERT J', 'SCRIMSHAW MATTHEW', 'GATHMANN WILLIAM D', 'HAEDICKE MARK E', 'BOWEN JR RAYMOND M', 'GILLIS JOHN', 'FITZGERALD JAY L', 'MORAN MICHAEL P', 'REDMOND BRIAN L', 'BAZELIDES PHILIP J', 'BELDEN TIMOTHY N', 'DURAN WILLIAM D', 'THORN TERENCE H', 'FASTOW ANDREW S', 'FOY JOE', 'CALGER CHRISTOPHER F', 'RICE KENNETH D', 'KAMINSKI WINCENTY J', 'LOCKHART EUGENE E', 'COX DAVID', 'OVERDYKE JR JERE C', 'PEREIRA PAULO V. FERRAZ', 'STABLER FRANK', 'SKILLING JEFFREY K', 'BLAKE JR. NORMAN P', 'SHERRICK JEFFREY B', 'PRENTICE JAMES', 'GRAY RODNEY', 'PICKERING MARK R', 'THE TRAVEL AGENCY IN THE PARK', 'NOLES JAMES L', 'KEAN STEVEN J', 'TOTAL', 'FOWLER PEGGY', 'WASAFF GEORGE', 'WHITE JR THOMAS E', 'CHRISTODOULOU DIOMEDES', 'ALLEN PHILLIP K', 'SHARP VICTORIA T', 'JAEDICKE ROBERT', 'WINOKUR JR. HERBERT S', 'BROWN MICHAEL', 'BADUM JAMES P', 'HUGHES JAMES A', 'REYNOLDS LAWRENCE', 'DIMICHELE RICHARD G', 'BHATNAGAR SANJAY', 'CARTER REBECCA C', 'BUCHANAN HAROLD G', 'YEAP SOON', 'MURRAY JULIA H', 'GARLAND C KEVIN', 'DODSON KEITH', 'YEAGER F SCOTT', 'HIRKO JOSEPH', 'DIETRICH JANET R', 'DERRICK JR. JAMES V', 'FREVERT MARK A', 'PAI LOU L', 'BAY FRANKLIN R', 'HAYSLETT RODERICK J', 'FUGH JOHN L', 'FALLON JAMES B', 'KOENIG MARK E', 'SAVAGE FRANK', 'IZZO LAWRENCE L', 'TILNEY ELIZABETH A', 'MARTIN AMANDA K', 'BUY RICHARD B', 'GRAMM WENDY L', 'CAUSEY RICHARD A', 'TAYLOR MITCHELL S', 'DONAHUE JR JEFFREY M', 'GLISAN JR BEN F']\n"
     ]
    }
   ],
   "source": [
    "print data_dict.keys()"
   ]
  },
  {
   "cell_type": "code",
   "execution_count": 74,
   "metadata": {
    "collapsed": false
   },
   "outputs": [
    {
     "name": "stdout",
     "output_type": "stream",
     "text": [
      "{'salary': 330546, 'to_messages': 3523, 'deferral_payments': 649584, 'total_payments': 2355702, 'exercised_stock_options': 2542813, 'bonus': 900000, 'restricted_stock': 901657, 'shared_receipt_with_poi': 2333, 'restricted_stock_deferred': 'NaN', 'total_stock_value': 3444470, 'expenses': 'NaN', 'loan_advances': 'NaN', 'from_messages': 1053, 'other': 400572, 'from_this_person_to_poi': 71, 'poi': False, 'director_fees': 'NaN', 'deferred_income': -694862, 'long_term_incentive': 769862, 'email_address': 'rick.buy@enron.com', 'from_poi_to_this_person': 156}\n"
     ]
    }
   ],
   "source": [
    "print data_dict['BUY RICHARD B']"
   ]
  },
  {
   "cell_type": "markdown",
   "metadata": {},
   "source": [
    "The Enron Data\n",
    "Outlier Investigation\n",
    "\n",
    "First of all I’d like to have a look at my data and check it for outliers. I plot salaries and bonuses on Enron employees and see an outlier in the data."
   ]
  },
  {
   "cell_type": "code",
   "execution_count": 75,
   "metadata": {
    "collapsed": false
   },
   "outputs": [
    {
     "data": {
      "image/png": "[encoded data removed]",
      "text/plain": [
       "<matplotlib.figure.Figure at 0x7f06ef715890>"
      ]
     },
     "metadata": {},
     "output_type": "display_data"
    }
   ],
   "source": [
    "features = [\"salary\", \"bonus\"]\n",
    "#data_dict.pop('TOTAL', 0)\n",
    "data = featureFormat(data_dict, features)\n",
    "### plot features\n",
    "for point in data:\n",
    "    salary = point[0]\n",
    "    bonus = point[1]\n",
    "    plt.scatter( salary, bonus )\n",
    "\n",
    "plt.xlabel(\"salary\")\n",
    "plt.ylabel(\"bonus\")\n",
    "plt.show()"
   ]
  },
  {
   "cell_type": "markdown",
   "metadata": {},
   "source": [
    "outlier : datapoint of salary 26,704,229 is clear outlier."
   ]
  },
  {
   "cell_type": "code",
   "execution_count": 76,
   "metadata": {
    "collapsed": false
   },
   "outputs": [
    {
     "name": "stdout",
     "output_type": "stream",
     "text": [
      "[('TOTAL', 26704229), ('SKILLING JEFFREY K', 1111258), ('LAY KENNETH L', 1072321), ('FREVERT MARK A', 1060932)]\n"
     ]
    }
   ],
   "source": [
    "outliers = []\n",
    "for key in data_dict:\n",
    "    val = data_dict[key]['salary']\n",
    "    if val == 'NaN':\n",
    "        continue\n",
    "    outliers.append((key, int(val)))\n",
    "\n",
    "outliers_final = (sorted(outliers,key=lambda x:x[1],reverse=True)[:4])\n",
    "### print top 4 salaries\n",
    "print outliers_final"
   ]
  },
  {
   "cell_type": "markdown",
   "metadata": {},
   "source": [
    "When I check it I see this is a number for total salary and bonus. As this is not sensible information for our analysis I remove it manually. Two more outliers (SKILLING JEFFREY and LAY KENNETH) I keep in dataset as these values real and actually they are already a sign of these two managers being involved in the fraud. Now dataset look like this:"
   ]
  },
  {
   "cell_type": "code",
   "execution_count": 77,
   "metadata": {
    "collapsed": false
   },
   "outputs": [
    {
     "name": "stdout",
     "output_type": "stream",
     "text": [
      "8000000.0\n"
     ]
    },
    {
     "data": {
      "image/png": "[encoded data removed]",
      "text/plain": [
       "<matplotlib.figure.Figure at 0x7f06efaba290>"
      ]
     },
     "metadata": {},
     "output_type": "display_data"
    }
   ],
   "source": [
    "### read in data dictionary, convert to numpy array\n",
    "data_dict = pickle.load( open(\"/home/aunja/ANUJA/data_analyst_nano/ud120-projects/final_project/final_project_dataset.pkl\", \"r\") )\n",
    "features = [\"salary\", \"bonus\"]\n",
    "\n",
    "data_dict.pop('TOTAL',0)\n",
    "\n",
    "data = featureFormat(data_dict, features)\n",
    "\n",
    "print data.max()\n",
    "for point in data:\n",
    "    salary = point[0]\n",
    "    bonus = point[1]\n",
    "    plt.scatter( salary, bonus )\n",
    "    if data_dict:\n",
    "            plt.scatter( salary, bonus, color='blue')\n",
    "              \n",
    "plt.xlabel(\"salary\")\n",
    "plt.ylabel(\"bonus\")\n",
    "plt.show()\n"
   ]
  },
  {
   "cell_type": "markdown",
   "metadata": {},
   "source": [
    "Feature Processing\n",
    "\n",
    "After cleaning the data from outliers I had to pick features to use. First I picked 'from_poi_to_this_person' and 'from_this_person_to_poi' but there is was no strong pattern when I plotted the data so I used fractions for both features of “from/to poi messages” and “total from/to messages”."
   ]
  },
  {
   "cell_type": "code",
   "execution_count": 78,
   "metadata": {
    "collapsed": false
   },
   "outputs": [],
   "source": [
    "### create new features\n",
    "### new features are: fraction_to_poi_email,fraction_from_poi_email\n",
    "\n",
    "def dict_to_list(key,normalizer):\n",
    "    new_list = []\n",
    "\n",
    "    for i in data_dict:\n",
    "        if data_dict[i][key] == \"NaN\" or data_dict[i][normalizer] == \"NaN\":\n",
    "            new_list.append(0)\n",
    "        elif data_dict[i][key] >= 0:\n",
    "            new_list.append(float(data_dict[i][key])/float(data_dict[i][normalizer]))\n",
    "    return new_list\n",
    "\n",
    "### create two lists of new features\n",
    "fraction_from_poi_email = dict_to_list(\"from_poi_to_this_person\",\"to_messages\")\n",
    "fraction_to_poi_email = dict_to_list(\"from_this_person_to_poi\",\"from_messages\")\n",
    "\n",
    "### insert new features into data_dict\n",
    "count = 0\n",
    "for i in data_dict:\n",
    "    data_dict[i][\"fraction_from_poi_email\"] = fraction_from_poi_email[count]\n",
    "    data_dict[i][\"fraction_to_poi_email\"] = fraction_to_poi_email[count]\n",
    "    count += 1\n",
    "\n",
    "features_list = [\"poi\", \"fraction_from_poi_email\", \"fraction_to_poi_email\"]    \n",
    "    ### store to my_dataset for easy export below\n",
    "my_dataset = data_dict\n",
    "### Extract features and labels from dataset for local testing\n",
    "data = featureFormat(my_dataset, features_list, sort_keys = True)\n",
    "labels, features = targetFeatureSplit(data)\n"
   ]
  },
  {
   "cell_type": "code",
   "execution_count": 79,
   "metadata": {
    "collapsed": false
   },
   "outputs": [
    {
     "data": {
      "image/png": "[encoded data removed]",
      "text/plain": [
       "<matplotlib.figure.Figure at 0x7f06effacfd0>"
      ]
     },
     "metadata": {},
     "output_type": "display_data"
    }
   ],
   "source": [
    "#plot new features\n",
    "def graph_scatter_with_poi(var1, var2):\n",
    "    for name in data_dict:\n",
    "        point = data_dict[name]\n",
    "        poi = point['poi']\n",
    "        x = point[var1]\n",
    "        y = point[var2]\n",
    "\n",
    "        if poi:\n",
    "            plt.scatter( x, y, color='red')\n",
    "        else:\n",
    "            plt.scatter( x, y, color='blue')\n",
    "    plt.xlabel(var1)\n",
    "    plt.ylabel(var2)\n",
    "\n",
    "plt.figure(1, figsize=(16, 5))\n",
    "plt.subplot(1,2,1) \n",
    "graph_scatter_with_poi('from_poi_to_this_person', 'from_this_person_to_poi')\n",
    "plt.subplot(1,2,2) \n",
    "graph_scatter_with_poi('fraction_from_poi_email', 'fraction_to_poi_email')\n",
    "plt.show()"
   ]
  },
  {
   "cell_type": "markdown",
   "metadata": {},
   "source": [
    "Red dots shows the number of POIs and blue dots show the number of non POIs in the data.In new feature plot \"fraction_from_poi_email,fraction_to_poi_email\".There are 14 POIs in the data."
   ]
  },
  {
   "cell_type": "markdown",
   "metadata": {},
   "source": [
    "In order to find the most effective features for classification, feature selection using “Decision Tree” was deployed to rank the features. Selection features was half manual iterative process. First I put all the possible features into features_list and then started deleting them one by one using score value and human intuition. I rank them with feature importance from sklearn. then I used them."
   ]
  },
  {
   "cell_type": "code",
   "execution_count": 80,
   "metadata": {
    "collapsed": false
   },
   "outputs": [
    {
     "name": "stdout",
     "output_type": "stream",
     "text": [
      "accuracy 0.733333333333\n",
      "Decision tree algorithm time: 0.005 s\n",
      "Feature Ranking: \n",
      "1 feature salary (0.248851080523)\n",
      "2 feature bonus (0.158290984378)\n",
      "3 feature fraction_from_poi_email (0.14622972935)\n",
      "4 feature fraction_to_poi_email (0.118337314859)\n",
      "5 feature deferral_payments (0.0879795396419)\n",
      "6 feature total_payments (0.0747826086957)\n",
      "7 feature loan_advances (0.0534161490683)\n",
      "8 feature restricted_stock_deferred (0.0534161490683)\n",
      "9 feature deferred_income (0.0377115287109)\n",
      "10 feature total_stock_value (0.0209849157054)\n",
      "11 feature expenses (0.0)\n",
      "12 feature exercised_stock_options (0.0)\n",
      "13 feature long_term_incentive (0.0)\n",
      "14 feature shared_receipt_with_poi (0.0)\n",
      "15 feature restricted_stock (0.0)\n",
      "16 feature director_fees (0.0)\n"
     ]
    }
   ],
   "source": [
    "features_list = [\"poi\", \"salary\", \"bonus\", \"fraction_from_poi_email\", \"fraction_to_poi_email\",\n",
    "                 'deferral_payments', 'total_payments', 'loan_advances', 'restricted_stock_deferred',\n",
    "                 'deferred_income', 'total_stock_value', 'expenses', 'exercised_stock_options',\n",
    "                 'long_term_incentive', 'shared_receipt_with_poi', 'restricted_stock', 'director_fees']\n",
    "data = featureFormat(my_dataset, features_list)\n",
    "\n",
    "\n",
    "### split into labels and features (this line assumes that the first feature in the array is the label, which is \n",
    "### why \"poi\" must always be first in features_list\n",
    "labels, features = targetFeatureSplit(data)\n",
    "\n",
    "### split data into training and testing datasets\n",
    "from sklearn import cross_validation\n",
    "features_train, features_test, labels_train, labels_test = cross_validation.train_test_split(features, labels, test_size=0.1, random_state=42)\n",
    "\n",
    "##accuracy and score\n",
    "from sklearn.tree import DecisionTreeClassifier\n",
    "\n",
    "t0 = time()\n",
    "\n",
    "clf = DecisionTreeClassifier()\n",
    "clf.fit(features_train,labels_train)\n",
    "score = clf.score(features_test,labels_test)\n",
    "pred= clf.predict(features_test)\n",
    "print 'accuracy', score\n",
    "\n",
    "print \"Decision tree algorithm time:\", round(time()-t0, 3), \"s\"\n",
    "\n",
    "##Feature Ranking:\n",
    "importances = clf.feature_importances_\n",
    "import numpy as np\n",
    "indices = np.argsort(importances)[::-1]\n",
    "print 'Feature Ranking: '\n",
    "for i in range(16):\n",
    "    print \"{} feature {} ({})\".format(i+1,features_list[i+1],importances[indices[i]])"
   ]
  },
  {
   "cell_type": "markdown",
   "metadata": {},
   "source": [
    "I removed each feature one by one to determine its impact on precision and recall\n",
    "\n",
    "1.Remove each feature one by one\n",
    "2.Test precision and recall with each feature removed\n",
    "3.Keep features with impact on precision and recall that exceed a difference 0.1\n",
    "\n",
    "Finally I picked 09 features which are:\n",
    "[\"salary\", \"bonus\", \"fraction_from_poi_email\", \"fraction_to_poi_email\", 'deferral_payments', 'total_payments', 'loan_advances', 'restricted_stock_deferred', 'deferred_income']\n",
    "\n",
    "Accuracy for this feature set is around 0.8.\n",
    "\n",
    "But with these features my precision and recall were too low (less than 0.3) so I had to change my strategy and manually pick features which gave me precision and recall values over 0.3. In this dataset I cannot use accuracy for evaluating my algorithm because there a few POI’s in dataset and the best evaluator are precision and recall. There were only 18 examples of POIs in the dataset. There were 35 people who were POIs in “real life”, but for various reasons, half of those are not present in this dataset.\n",
    "\n",
    "Finally I picked the following features: [\"fraction_from_poi_email\", \"fraction_to_poi_email\", “shared_receipt_with_poi”]"
   ]
  },
  {
   "cell_type": "markdown",
   "metadata": {},
   "source": [
    "Algorithm Selection and Tuning\n",
    "\n",
    "I feed transformed features to each algorithm in the following.\n",
    "1.GaussianNB (naive bayes)\n",
    "2.DecisionTreeClassifier (tree)\n",
    "3.SVC (svm)"
   ]
  },
  {
   "cell_type": "code",
   "execution_count": 81,
   "metadata": {
    "collapsed": false
   },
   "outputs": [
    {
     "name": "stdout",
     "output_type": "stream",
     "text": [
      "0.266666666667\n",
      "NB algorithm time: 0.006 s\n"
     ]
    }
   ],
   "source": [
    "features_list = [\"poi\", \"fraction_from_poi_email\", \"fraction_to_poi_email\", \"shared_receipt_with_poi\"]\n",
    "\n",
    "### try Naive Bayes for prediction\n",
    "t0 = time()\n",
    "\n",
    "clf = GaussianNB()\n",
    "clf.fit(features_train, labels_train)\n",
    "pred = clf.predict(features_test)\n",
    "accuracy = accuracy_score(pred,labels_test)\n",
    "print accuracy\n",
    "\n",
    "print \"NB algorithm time:\", round(time()-t0, 3), \"s\""
   ]
  },
  {
   "cell_type": "code",
   "execution_count": 86,
   "metadata": {
    "collapsed": false
   },
   "outputs": [
    {
     "name": "stdout",
     "output_type": "stream",
     "text": [
      "0.8\n",
      "DecisionTreeClassifier algorithm time: 0.005 s\n"
     ]
    }
   ],
   "source": [
    "features_list = [\"poi\", \"fraction_from_poi_email\", \"fraction_to_poi_email\", \"shared_receipt_with_poi\"]\n",
    "\n",
    "### try DecisionTreeClassifier for prediction\n",
    "t0 = time()\n",
    "\n",
    "clf = DecisionTreeClassifier()\n",
    "clf.fit(features_train, labels_train)\n",
    "pred = clf.predict(features_test)\n",
    "accuracy = accuracy_score(pred,labels_test)\n",
    "print accuracy\n",
    "\n",
    "print \"DecisionTreeClassifier algorithm time:\", round(time()-t0, 3), \"s\""
   ]
  },
  {
   "cell_type": "code",
   "execution_count": 87,
   "metadata": {
    "collapsed": false
   },
   "outputs": [
    {
     "name": "stdout",
     "output_type": "stream",
     "text": [
      "0.733333333333\n",
      "SVC algorithm time: 0.009 s\n"
     ]
    }
   ],
   "source": [
    "features_list = [\"poi\", \"fraction_from_poi_email\", \"fraction_to_poi_email\", \"shared_receipt_with_poi\"]\n",
    "\n",
    "### try SVC for prediction\n",
    "t0 = time()\n",
    "\n",
    "clf = SVC()\n",
    "clf.fit(features_train, labels_train)\n",
    "pred = clf.predict(features_test)\n",
    "accuracy = accuracy_score(pred,labels_test)\n",
    "print accuracy\n",
    "\n",
    "print \"SVC algorithm time:\", round(time()-t0, 3), \"s\""
   ]
  },
  {
   "cell_type": "markdown",
   "metadata": {
    "collapsed": true
   },
   "source": [
    "I have tested each of these three algorithm to find their performances. As a result, DecisionTreeClassifier was the best. I made a conclusion that the feature set I used does not suit the distributional and interactive assumptions of Naive Bayes and svc well enough. I selected Decision Tree Algorithm for the POI identifier. It gave me accuracy before tuning parameters = 0.8. No feature scaling was deployed, as it’s not necessary when using a decision tree. After selecting features and algorithm I manually tuned parameter min_samples_split.\n"
   ]
  },
  {
   "cell_type": "markdown",
   "metadata": {},
   "source": [
    "Tuning\n",
    "\n",
    "Tuning an algorithm or machine learning technique, can be simply thought of as process which one goes through in which they optimize the parameters that impact the model in order to enable the algorithm to perform the best.\n",
    "Tuning is adjusting parameters of algorithm to improve performance. If I don’t tune well, overfitting might occur. Even though it correctly classifies the data, its prediction can not be generalized"
   ]
  },
  {
   "cell_type": "code",
   "execution_count": 88,
   "metadata": {
    "collapsed": false
   },
   "outputs": [
    {
     "name": "stdout",
     "output_type": "stream",
     "text": [
      "{'min_samples_split': 4}\n"
     ]
    }
   ],
   "source": [
    "### use manual tuning parameter min_samples_split\n",
    "from sklearn.grid_search import GridSearchCV\n",
    "param_grid = {'min_samples_split': np.arange(2, 10)}\n",
    "tree = GridSearchCV(DecisionTreeClassifier(), param_grid)\n",
    "tree.fit(features_train, labels_train)\n",
    "print(tree.best_params_)\n",
    "clf=tree\n",
    "\n",
    "#clf = DecisionTreeClassifier(min_samples_split=5)\n",
    "#clf"
   ]
  },
  {
   "cell_type": "markdown",
   "metadata": {},
   "source": [
    "What validation is and why it is important?\n",
    "\n",
    "Validation is a technique for checking how our model generalizes with the remaining part of the dataset. \n",
    "I have use different models, and using the validation set choose the best performing one. Different algorithms has different accuracy, precision and recall scores. they works best on different datasets. So finding best one with the data is important. when i validate i use a validation set, usually a split from the training set prior to any training. I train the model and then test it against unseen data which i split off. The reason for doing this is to gauge how well the model is generalizing. I want to avoid high variance, also known as overfitting. A major mistake i can make is to use the actual data i trained on to validate, since this is no longer unseen data.In this project we have the great start code with very useful function for validation - test_classifier()."
   ]
  },
  {
   "cell_type": "markdown",
   "metadata": {},
   "source": [
    "Analysis Validation and Performance\n",
    "\n",
    "This process was validated using 3-fold cross-validation, precision and recall scores. First I used accuracy to evaluate my algorithm. It was a mistake because in this case we have a class imbalance problem - the number of POIs is small compared to the total number of examples in the dataset. So I had to use precision and recall for these activities instead. I was able to reach average value of precision = 0.68, recall = 0.8."
   ]
  },
  {
   "cell_type": "code",
   "execution_count": 89,
   "metadata": {
    "collapsed": false
   },
   "outputs": [
    {
     "name": "stdout",
     "output_type": "stream",
     "text": [
      "accuracy before tuning  0.857142857143\n",
      "Decision tree algorithm time: 0.004 s\n",
      "done in 0.003s\n",
      "Validating algorithm:\n",
      "accuracy after tuning =  0.928571428571\n",
      "precision =  0.666666666667\n",
      "recall =  0.666666666667\n"
     ]
    }
   ],
   "source": [
    "### features_list is a list of strings, each of which is a feature name\n",
    "### first feature must be \"poi\", as this will be singled out as the label\n",
    "features_list = [\"poi\", \"fraction_from_poi_email\", \"fraction_to_poi_email\", 'shared_receipt_with_poi']\n",
    "\n",
    "\n",
    "### store to my_dataset for easy export below\n",
    "my_dataset = data_dict\n",
    "\n",
    "\n",
    "### these two lines extract the features specified in features_list\n",
    "### and extract them from data_dict, returning a numpy array\n",
    "data = featureFormat(my_dataset, features_list)\n",
    "\n",
    "\n",
    "### split into labels and features (this line assumes that the first\n",
    "### feature in the array is the label, which is why \"poi\" must always\n",
    "### be first in features_list\n",
    "labels, features = targetFeatureSplit(data)\n",
    "\n",
    "\n",
    "### machine learning goes here!\n",
    "### please name your classifier clf for easy export below\n",
    "\n",
    "### deploying feature selection\n",
    "from sklearn import cross_validation\n",
    "features_train, features_test, labels_train, labels_test = cross_validation.train_test_split(features, labels, test_size=0.1, random_state=42)\n",
    "\n",
    "### use KFold for split and validate algorithm\n",
    "from sklearn.cross_validation import KFold\n",
    "kf=KFold(len(labels),3)\n",
    "for train_indices, test_indices in kf:\n",
    "    #make training and testing sets\n",
    "    features_train= [features[ii] for ii in train_indices]\n",
    "    features_test= [features[ii] for ii in test_indices]\n",
    "    labels_train=[labels[ii] for ii in train_indices]\n",
    "    labels_test=[labels[ii] for ii in test_indices]\n",
    "\n",
    "from sklearn.tree import DecisionTreeClassifier\n",
    "\n",
    "t0 = time()\n",
    "\n",
    "clf = DecisionTreeClassifier()\n",
    "clf.fit(features_train,labels_train)\n",
    "score = clf.score(features_test,labels_test)\n",
    "print 'accuracy before tuning ', score\n",
    "\n",
    "print \"Decision tree algorithm time:\", round(time()-t0, 3), \"s\"\n",
    "\n",
    "\n",
    "### use manual tuning parameter min_samples_split\n",
    "t0 = time()\n",
    "clf = DecisionTreeClassifier(min_samples_split=7)\n",
    "clf = clf.fit(features_train,labels_train)\n",
    "pred= clf.predict(features_test)\n",
    "print(\"done in %0.3fs\" % (time() - t0))\n",
    "\n",
    "acc=accuracy_score(labels_test, pred)\n",
    "\n",
    "print \"Validating algorithm:\"\n",
    "print \"accuracy after tuning = \", acc\n",
    "\n",
    "# function for calculation ratio of true positives\n",
    "# out of all positives (true + false)\n",
    "print 'precision = ', precision_score(labels_test,pred)\n",
    "\n",
    "# function for calculation ratio of true positives\n",
    "# out of true positives and false negatives\n",
    "print 'recall = ', recall_score(labels_test,pred)\n",
    "\n",
    "\n",
    "### dump your classifier, dataset and features_list so\n",
    "### anyone can run/check your results\n",
    "pickle.dump(clf, open(\"my_classifier.pkl\", \"w\") )\n",
    "pickle.dump(data_dict, open(\"my_dataset.pkl\", \"w\") )\n",
    "pickle.dump(features_list, open(\"my_feature_list.pkl\", \"w\") )"
   ]
  },
  {
   "cell_type": "code",
   "execution_count": 90,
   "metadata": {
    "collapsed": false
   },
   "outputs": [
    {
     "name": "stdout",
     "output_type": "stream",
     "text": [
      "checking new features \n",
      "with new features\n",
      "Validating algorithm:\n",
      "('accuracy after tuning = ', 0.77777777777777779)\n",
      "('precision = ', 0.5)\n",
      "('recall = ', 0.5)\n",
      "without new features\n",
      "Validating algorithm:\n",
      "('accuracy after tuning = ', 0.77777777777777779)\n",
      "('precision = ', 0.5)\n",
      "('recall = ', 0.5)\n"
     ]
    }
   ],
   "source": [
    "print(\"checking new features \")\n",
    "print(\"with new features\")\n",
    "fdata=data\n",
    "fdata = featureFormat(my_dataset, features_list)\n",
    "labels, features = targetFeatureSplit(data)\n",
    "features_train, features_test, labels_train, labels_test = cross_validation.train_test_split(features, labels, test_size=0.1, random_state=42)\n",
    "\n",
    "clf = DecisionTreeClassifier(min_samples_split=7)\n",
    "clf = clf.fit(features_train,labels_train)\n",
    "pred= clf.predict(features_test)\n",
    "acc=accuracy_score(labels_test, pred)\n",
    "print (\"Validating algorithm:\")\n",
    "print (\"accuracy after tuning = \", acc)\n",
    "print( 'precision = ', precision_score(labels_test,pred))\n",
    "print( 'recall = ', recall_score(labels_test,pred))\n",
    "print(\"without new features\")\n",
    "\n",
    "features_to_remove= [\"from_poi_to_this_person\",\"from_this_person_to_poi\"]\n",
    "without_new=  [feature for feature in features_list if feature not in features_to_remove]\n",
    "\n",
    "fdata = featureFormat(my_dataset, without_new)\n",
    "labels, features = targetFeatureSplit(data)\n",
    "features_train, features_test, labels_train, labels_test = cross_validation.train_test_split(features, labels, test_size=0.1, random_state=42)\n",
    "\n",
    "clf = DecisionTreeClassifier(min_samples_split=7)\n",
    "clf = clf.fit(features_train,labels_train)\n",
    "pred= clf.predict(features_test)\n",
    "acc=accuracy_score(labels_test, pred)\n",
    "print (\"Validating algorithm:\")\n",
    "print (\"accuracy after tuning = \", acc)\n",
    "print( 'precision = ', precision_score(labels_test,pred))\n",
    "print( 'recall = ', recall_score(labels_test,pred))"
   ]
  },
  {
   "cell_type": "markdown",
   "metadata": {},
   "source": [
    "Conclusion\n",
    "\n",
    "I have tested each of these three algorithm to find their performances.naive bayes have 0.2666 accuracy,svm has 0.733 accuracy,decision tree has 0.8 accuracy. As a result, DecisionTreeClassifier was the best.\n",
    "I have use mannual tunning parameter min_samples_split.Since DecisionTreeClassifier showed the best performance, I decided to tune additional parameters to improve performance.I get accuracy before tunning is 0.85 and accuracy after tunning is 0.9285.With new features and without new features accuracy after tuning is 0.7777.\n",
    "The precision can be interpreted as the likelihood that a person who is identified as a POI is actually a true POI; the fact that this is 0.68 means that using this identifier to flag POI’s would result in 32% of the positive flags being false alarms. Recall measures how likely it is that identifier will flag a POI in the test set. 80% of the time it would catch that person, and 20% of the time it wouldn’t."
   ]
  },
  {
   "cell_type": "markdown",
   "metadata": {},
   "source": [
    " References\n",
    "Introduction to Machine Learning\n",
    "https://www.udacity.com/course/intro-to-machine-learning--ud120\n",
    "Machine Learning Mastery\n",
    "http://machinelearningmastery.com/start-here/\n",
    "Documentation in scikit learn\n",
    "http://napitupulu-jon.appspot.com/index.html ,\n",
    "http://napitupulu-jon.appspot.com/posts/feature-selection-ud120.html,\n",
    "http://napitupulu-jon.appspot.com/posts/outliers-ud120.html"
   ]
  }
 ],
 "metadata": {
  "kernelspec": {
   "display_name": "Python 2",
   "language": "python",
   "name": "python2"
  },
  "language_info": {
   "codemirror_mode": {
    "name": "ipython",
    "version": 2
   },
   "file_extension": ".py",
   "mimetype": "text/x-python",
   "name": "python",
   "nbconvert_exporter": "python",
   "pygments_lexer": "ipython2",
   "version": "2.7.13"
  }
 },
 "nbformat": 4,
 "nbformat_minor": 2
}
